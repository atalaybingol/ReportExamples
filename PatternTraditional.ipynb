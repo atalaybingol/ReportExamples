{
  "nbformat": 4,
  "nbformat_minor": 0,
  "metadata": {
    "colab": {
      "name": "PatternTraditional.ipynb",
      "provenance": [],
      "collapsed_sections": [],
      "authorship_tag": "ABX9TyN1QUeDluUqW3Zrww6euTz+"
    },
    "kernelspec": {
      "name": "python3",
      "display_name": "Python 3"
    },
    "language_info": {
      "name": "python"
    }
  },
  "cells": [
    {
      "cell_type": "code",
      "execution_count": null,
      "metadata": {
        "id": "_k2sXCXJMloY"
      },
      "outputs": [],
      "source": [
        "import numpy as np\n",
        "\n",
        "xs=np.array([-1.0, 0.0, 1.0, 2.0, 3.0, 4.0], dtype=float)\n",
        "ys=np.array([-3.0, -1.0, 1.0, 3.0, 5.0, 7.0], dtype=float)"
      ]
    },
    {
      "cell_type": "markdown",
      "source": [
        "## ys = 2 * xs -1"
      ],
      "metadata": {
        "id": "V-iNOXLofrOY"
      }
    },
    {
      "cell_type": "code",
      "source": [
        "def pattern(x):\n",
        "  return 2*x-1"
      ],
      "metadata": {
        "id": "XsMHf71zUjcU"
      },
      "execution_count": null,
      "outputs": []
    },
    {
      "cell_type": "code",
      "source": [
        "pattern(10)"
      ],
      "metadata": {
        "colab": {
          "base_uri": "https://localhost:8080/"
        },
        "id": "bCiGpvEBf6bX",
        "outputId": "d392b81e-0354-43e2-dc0d-b5c67918461a"
      },
      "execution_count": null,
      "outputs": [
        {
          "output_type": "execute_result",
          "data": {
            "text/plain": [
              "19"
            ]
          },
          "metadata": {},
          "execution_count": 9
        }
      ]
    },
    {
      "cell_type": "code",
      "source": [
        ""
      ],
      "metadata": {
        "id": "8SVTe1rzf-lU"
      },
      "execution_count": null,
      "outputs": []
    }
  ]
}